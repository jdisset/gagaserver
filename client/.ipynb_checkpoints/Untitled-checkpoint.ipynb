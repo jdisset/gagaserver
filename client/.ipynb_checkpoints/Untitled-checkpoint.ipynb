{
 "cells": [
  {
   "cell_type": "code",
   "execution_count": 1,
   "metadata": {},
   "outputs": [],
   "source": [
    "import time\n",
    "import random\n",
    "from random import randint\n",
    "import zmq"
   ]
  },
  {
   "cell_type": "code",
   "execution_count": 2,
   "metadata": {},
   "outputs": [],
   "source": [
    "context = zmq.Context.instance()\n",
    "worker = context.socket(zmq.REQ)\n",
    "identity = u\"%04x-%04x\" % (randint(0, 0x10000), randint(0, 0x10000))\n",
    "worker.setsockopt_string(zmq.IDENTITY, identity)\n",
    "worker.connect(\"tcp://localhost:4321\")\n"
   ]
  },
  {
   "cell_type": "code",
   "execution_count": null,
   "metadata": {},
   "outputs": [],
   "source": [
    "total = 0\n",
    "while True:\n",
    "    worker.send(b\"{\\\"req\\\":\\\"READY\\\"}\")\n",
    "    workload = worker.recv()\n",
    "    print(\"received workload \", workload)\n",
    "    time.sleep(0.1 * random.random())\n",
    "\n"
   ]
  },
  {
   "cell_type": "code",
   "execution_count": null,
   "metadata": {},
   "outputs": [],
   "source": []
  }
 ],
 "metadata": {
  "kernelspec": {
   "display_name": "Python 3",
   "language": "python",
   "name": "python3"
  },
  "language_info": {
   "codemirror_mode": {
    "name": "ipython",
    "version": 3
   },
   "file_extension": ".py",
   "mimetype": "text/x-python",
   "name": "python",
   "nbconvert_exporter": "python",
   "pygments_lexer": "ipython3",
   "version": "3.7.0"
  }
 },
 "nbformat": 4,
 "nbformat_minor": 2
}
